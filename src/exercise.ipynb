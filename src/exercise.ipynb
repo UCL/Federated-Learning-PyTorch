{
 "cells": [
  {
   "cell_type": "code",
   "execution_count": 1,
   "metadata": {
    "ExecuteTime": {
     "end_time": "2022-07-12T15:54:29.396264Z",
     "start_time": "2022-07-12T15:54:29.391247Z"
    }
   },
   "outputs": [],
   "source": [
    "import pandas\n",
    "import os.path as op\n",
    "import numpy as np\n",
    "from glob import glob\n",
    "from pprint import pprint\n",
    "import cv2\n",
    "import shutil\n",
    "# print(pandas.__version__)"
   ]
  },
  {
   "cell_type": "code",
   "execution_count": 2,
   "metadata": {
    "ExecuteTime": {
     "end_time": "2022-07-12T15:44:10.458070Z",
     "start_time": "2022-07-12T15:44:10.436054Z"
    }
   },
   "outputs": [
    {
     "name": "stdout",
     "output_type": "stream",
     "text": [
      "G:\\federate\\data\\cleaned_dataset\\test_masks\n"
     ]
    }
   ],
   "source": [
    "# 根目录\n",
    "# root_dir = r'G:\\federate'\n",
    "root_dir = r'G:\\federate\\data'\n",
    "# 原始文件目录\n",
    "row_train_data = op.join(root_dir, 'stylernd') \n",
    "row_lable_data = op.join(root_dir, 'labels') \n",
    "# 用于训练的img风格类别\n",
    "style = \"style_00\"\n",
    "# 肝脏的像元值 [26, 51, 77, 102, 128, 153, 179]\n",
    "Liver_pixel = 26\n",
    "# 输出目录\n",
    "cleaned_data_dir = op.join(root_dir, 'cleaned_dataset') \n",
    "train_dir = op.join(cleaned_data_dir, 'train')\n",
    "train_masks_dir = op.join(cleaned_data_dir, 'train_masks')\n",
    "test_dir = op.join(cleaned_data_dir, 'test')\n",
    "test_masks_dir = op.join(cleaned_data_dir, 'test_masks')\n",
    "print(test_masks_dir)"
   ]
  },
  {
   "cell_type": "code",
   "execution_count": 3,
   "metadata": {
    "ExecuteTime": {
     "end_time": "2022-07-12T15:44:10.632060Z",
     "start_time": "2022-07-12T15:44:10.611047Z"
    }
   },
   "outputs": [
    {
     "name": "stdout",
     "output_type": "stream",
     "text": [
      "True\n",
      "True\n"
     ]
    }
   ],
   "source": [
    "# img path to label path\n",
    "# img path : G:\\federate\\stylernd\\3Dircadb1.1\\style_00\\img00000.png\n",
    "# label path : G:\\federate\\labels\\3Dircadb1.1\\labels\\lbl00000.png\n",
    "def ImgPath2LabelPath(ImgPath):\n",
    "    ImgPath = ImgPath.replace('stylernd', 'labels')\n",
    "    ImgPath = ImgPath.replace(style, 'labels')\n",
    "    ImgPath = ImgPath.replace('img','lbl')\n",
    "    return ImgPath\n",
    "\n",
    "\n",
    "def LabelPath2ImgPath(LabelPath):\n",
    "    LabelPath = LabelPath.replace('labels\\lbl', style + '\\img')\n",
    "    LabelPath = LabelPath.replace('labels', 'stylernd')\n",
    "    LabelPath = LabelPath.replace('labels', style)\n",
    "    return LabelPath\n",
    "\n",
    "\n",
    "ImgPath = op.join(root_dir, op.join(r'stylernd\\3Dircadb1.1', style, 'img00000.png'))\n",
    "LabelPath = op.join(root_dir, r'labels\\3Dircadb1.1\\labels\\lbl00000.png')  \n",
    "print(LabelPath2ImgPath(LabelPath) == ImgPath)\n",
    "print(ImgPath2LabelPath(ImgPath) == LabelPath)    "
   ]
  },
  {
   "cell_type": "code",
   "execution_count": 4,
   "metadata": {
    "ExecuteTime": {
     "end_time": "2022-07-12T15:44:10.774062Z",
     "start_time": "2022-07-12T15:44:10.753052Z"
    }
   },
   "outputs": [
    {
     "name": "stdout",
     "output_type": "stream",
     "text": [
      "10\n",
      "['G:\\\\federate\\\\data\\\\stylernd\\\\3Dircadb1.1\\\\style_00',\n",
      " 'G:\\\\federate\\\\data\\\\stylernd\\\\3Dircadb1.10\\\\style_00',\n",
      " 'G:\\\\federate\\\\data\\\\stylernd\\\\3Dircadb1.11\\\\style_00',\n",
      " 'G:\\\\federate\\\\data\\\\stylernd\\\\3Dircadb1.17\\\\style_00',\n",
      " 'G:\\\\federate\\\\data\\\\stylernd\\\\3Dircadb1.18\\\\style_00',\n",
      " 'G:\\\\federate\\\\data\\\\stylernd\\\\3Dircadb1.19\\\\style_00',\n",
      " 'G:\\\\federate\\\\data\\\\stylernd\\\\3Dircadb1.2\\\\style_00',\n",
      " 'G:\\\\federate\\\\data\\\\stylernd\\\\3Dircadb1.20\\\\style_00',\n",
      " 'G:\\\\federate\\\\data\\\\stylernd\\\\3Dircadb1.8\\\\style_00',\n",
      " 'G:\\\\federate\\\\data\\\\stylernd\\\\3Dircadb1.9\\\\style_00']\n"
     ]
    }
   ],
   "source": [
    "train_dirs = glob(op.join(row_train_data, '*'))\n",
    "train_dirs = [op.join(i, style) for i in train_dirs]\n",
    "pprint(len(train_dirs))\n",
    "pprint(train_dirs)"
   ]
  },
  {
   "cell_type": "code",
   "execution_count": 5,
   "id": "d76f322f",
   "metadata": {},
   "outputs": [],
   "source": [
    "def LabelVaild(ImgPath):\n",
    "    labelPath = ImgPath2LabelPath(ImgPath)\n",
    "    label = cv2.imread(labelPath, cv2.IMREAD_UNCHANGED)\n",
    "    # print(label.shape)\n",
    "    # print(label.dtype)\n",
    "    # print(label.max())\n",
    "    # print(np.unique(label))\n",
    "    tmp = label == Liver_pixel\n",
    "    # tmp = label == 99\n",
    "    return tmp.any()\n",
    "    # print(type(tmp))\n",
    "    # print(tmp.dtype)\n",
    "    # tmp = tmp.astype(np.uint8)\n",
    "    # print(tmp.dtype)\n",
    "    \n",
    "\n",
    "# file = op.join(root_dir, op.join(r'stylernd\\3Dircadb1.1', style, 'img00001.png'))\n",
    "# print(LabelVaild(file))"
   ]
  },
  {
   "cell_type": "code",
   "execution_count": 6,
   "metadata": {
    "ExecuteTime": {
     "end_time": "2022-07-12T15:44:11.121055Z",
     "start_time": "2022-07-12T15:44:10.928055Z"
    }
   },
   "outputs": [
    {
     "name": "stdout",
     "output_type": "stream",
     "text": [
      "500\n",
      "200\n"
     ]
    }
   ],
   "source": [
    "# 采样筛选数据\n",
    "TrainNum = 500\n",
    "trainBatch = int(TrainNum / len(train_dirs))\n",
    "TrainImgPathList = []\n",
    "TrainLabelPathList = []\n",
    "\n",
    "TestNum = 200\n",
    "testBatch = int(TestNum / len(train_dirs))\n",
    "TestImgPathList = []\n",
    "TestLabelPathList = []\n",
    "\n",
    "for dir in train_dirs:\n",
    "    PathList = glob(op.join(dir, '*.png'))\n",
    "    resPathList = [i for i in PathList if LabelVaild(i)]    \n",
    "    TrainImgPathList += resPathList[:trainBatch]\n",
    "    TestImgPathList += resPathList[trainBatch: trainBatch + testBatch]\n",
    "#     print(dir)\n",
    "#     print(len(TestImgPathList)) \n",
    "    \n",
    "TrainLabelPathList = [ImgPath2LabelPath(i) for i in TrainImgPathList]    \n",
    "TestLabelPathList = [ImgPath2LabelPath(i) for i in TestImgPathList]  \n",
    "print(len(TrainLabelPathList)) \n",
    "print(len(TestLabelPathList)) "
   ]
  },
  {
   "cell_type": "code",
   "execution_count": 7,
   "metadata": {
    "ExecuteTime": {
     "end_time": "2022-07-12T15:57:22.050606Z",
     "start_time": "2022-07-12T15:57:22.030607Z"
    }
   },
   "outputs": [
    {
     "name": "stdout",
     "output_type": "stream",
     "text": [
      "G:\\federate\\data\\stylernd\\3Dircadb1.1\\style_00\\img00000.png\n",
      "G:\\federate\\data\\cleaned_dataset\\train\n"
     ]
    }
   ],
   "source": [
    "# 复制粘贴数据\n",
    "SrcList = [TrainImgPathList, TrainLabelPathList, TestImgPathList, TestLabelPathList]\n",
    "DstDir = [train_dir, train_masks_dir, test_dir, test_masks_dir]\n",
    "print(SrcList[0][0])\n",
    "print(DstDir[0])"
   ]
  },
  {
   "cell_type": "code",
   "execution_count": 8,
   "metadata": {
    "ExecuteTime": {
     "end_time": "2022-07-12T15:57:23.225064Z",
     "start_time": "2022-07-12T15:57:23.212062Z"
    }
   },
   "outputs": [],
   "source": [
    "# def MoveFile(file, dir):    \n",
    "file = op.join(root_dir, op.join(r'stylernd\\3Dircadb1.1', style, 'img00001.png'))\n",
    "dir = op.join(root_dir, r'cleaned_dataset\\train')   \n",
    "\n",
    "# 3c6acfceb552_05.jpg\n",
    "# 3c6acfceb552_05_mask.gif\n",
    "# cnt = 1\n",
    "# shutil.copy(file, op.join(dir, str(cnt) + \".png\"))\n",
    "# shutil.copy(file, op.join(dir, str(cnt) + \"_mask.png\"))"
   ]
  },
  {
   "cell_type": "code",
   "execution_count": 9,
   "id": "cb1cc9f8",
   "metadata": {},
   "outputs": [],
   "source": [
    "def ProcessImage(ImagePath):\n",
    "    pass\n",
    "    # img = cv2.imread(file, cv2.IMREAD_UNCHANGED)\n",
    "    # print(img.shape)\n",
    "    # print(img.dtype)\n",
    "    # print(img.min())\n"
   ]
  },
  {
   "cell_type": "code",
   "execution_count": 10,
   "id": "85989953",
   "metadata": {},
   "outputs": [],
   "source": [
    "def ProcessLabel(LabelPath):\n",
    "    label = cv2.imread(LabelPath, cv2.IMREAD_UNCHANGED)\n",
    "    # print(label.shape)\n",
    "    # print(label.dtype)\n",
    "    # print(label.max())\n",
    "    # print(np.unique(label))\n",
    "    tmp = label == Liver_pixel\n",
    "    # print(tmp.shape)\n",
    "    # print(type(tmp))\n",
    "    # print(tmp.dtype)\n",
    "    tmp = tmp.astype(np.uint8)\n",
    "    # print(tmp.dtype)\n",
    "    # print(tmp.any())\n",
    "    tmp = tmp * 255\n",
    "    # print(tmp.shape)\n",
    "    tmp = tmp[:, :, 1]\n",
    "    # cv2.imwrite(op.join(dir, 'img.png'), img)\n",
    "    cv2.imwrite(LabelPath, tmp)\n",
    "\n",
    "    # cv2.imwrite(op.join(dir, 'label2.png'), label)\n",
    "# a = r'G:\\federate\\labels\\3Dircadb1.17\\labels\\lbl00009.png'\n",
    "# ProcessLabel(a)\n"
   ]
  },
  {
   "cell_type": "code",
   "execution_count": 11,
   "metadata": {
    "ExecuteTime": {
     "end_time": "2022-07-12T16:13:42.363979Z",
     "start_time": "2022-07-12T16:13:36.786779Z"
    }
   },
   "outputs": [
    {
     "name": "stdout",
     "output_type": "stream",
     "text": [
      "700\n"
     ]
    }
   ],
   "source": [
    "cnt = 0\n",
    "for i in range(len(SrcList)):\n",
    "    dir = DstDir[i]\n",
    "    for f in SrcList[i]:\n",
    "        if i == 0 or i == 2:         # 判断变量是否为 python \n",
    "            # break\n",
    "            cnt += 1\n",
    "            \n",
    "            dstImagePath = op.join(dir, str(cnt) + \".png\")\n",
    "            shutil.copy(f, dstImagePath)\n",
    "            ProcessImage(dstImagePath)\n",
    "\n",
    "            dstLabelPath = op.join(DstDir[i+1], str(cnt) + \"_mask.png\")\n",
    "            shutil.copy(ImgPath2LabelPath(f), dstLabelPath)\n",
    "            ProcessLabel(dstLabelPath)\n",
    "print(cnt)"
   ]
  },
  {
   "cell_type": "code",
   "execution_count": 12,
   "id": "39999892",
   "metadata": {},
   "outputs": [
    {
     "name": "stdout",
     "output_type": "stream",
     "text": [
      "[26, 51, 77, 102, 128, 153, 179]\n"
     ]
    }
   ],
   "source": [
    "# 统计所有的像素类别\n",
    "# print(TrainLabelPathList[0])\n",
    "# label = cv2.imread(TrainLabelPathList[0], cv2.IMREAD_UNCHANGED)\n",
    "# print(label.shape)\n",
    "# print(label.dtype)\n",
    "# print(label.max())\n",
    "# print(np.unique(label))\n",
    "res = []\n",
    "res = set(res)\n",
    "for dir in train_dirs:\n",
    "    PathList = glob(op.join(dir, '*.png'))\n",
    "    for i in PathList:\n",
    "        b = set(np.unique(cv2.imread(ImgPath2LabelPath(i), cv2.IMREAD_UNCHANGED)))\n",
    "        res = res.union(set(b))\n",
    "        # print()\n",
    "        # input()\n",
    "        # res.union(set(np.unique(cv2.imread(ImgPath2LabelPath(i), cv2.IMREAD_UNCHANGED))))\n",
    "        # if LabelVaild(i):\n",
    "        #     print(1)\n",
    "# print(2)\n",
    "print(sorted(res))\n",
    "# LabelPath2ImgPath(TrainLabelPathList[4])\n",
    "# "
   ]
  },
  {
   "cell_type": "code",
   "execution_count": 13,
   "id": "34f6fd28",
   "metadata": {},
   "outputs": [],
   "source": [
    "# print(sorted(res))"
   ]
  },
  {
   "cell_type": "code",
   "execution_count": 14,
   "metadata": {},
   "outputs": [
    {
     "name": "stdout",
     "output_type": "stream",
     "text": [
      "[1, 2, 3, 4, 4, 4, 2]\n",
      "{1, 2, 3, 4}\n",
      "{1, 2, 3, 4, 5}\n"
     ]
    }
   ],
   "source": [
    " a = [1, 2, 3 ,4 ,4 ,4 , 2]\n",
    " b = [2, 4, 5 ,2, 5]\n",
    " print(a)\n",
    " print(set(a))\n",
    "#  su = \n",
    " print(set(a).union(set(b)))\n"
   ]
  },
  {
   "cell_type": "code",
   "execution_count": 15,
   "id": "e1d3e671",
   "metadata": {},
   "outputs": [],
   "source": [
    "# ls = glob(op.join(r'G:\\federate\\data\\cleaned_dataset\\test_masks',\n",
    "#           '*.png')) + glob(op.join(r'G:\\federate\\data\\cleaned_dataset\\train_masks', '*.png'))\n",
    "# for i in ls:\n",
    "#     label = cv2.imread(i, cv2.IMREAD_UNCHANGED)\n",
    "#     label = label[:, :, 1]\n",
    "#     # cv2.imwrite(op.join(dir, 'img.png'), img)\n",
    "#     cv2.imwrite(i, label)\n"
   ]
  },
  {
   "cell_type": "code",
   "execution_count": 16,
   "id": "ec1f2807",
   "metadata": {},
   "outputs": [],
   "source": [
    "# a = cv2.imread(r'G:\\federate\\data\\cleaned_dataset\\test_masks\\533_mask.png',\n",
    "#                cv2.IMREAD_UNCHANGED)\n",
    "# print(a.shape)\n"
   ]
  },
  {
   "cell_type": "markdown",
   "id": "54a6bcdc",
   "metadata": {},
   "source": []
  }
 ],
 "metadata": {
  "kernelspec": {
   "display_name": "Python 3.8.5 ('pytorch_gpu')",
   "language": "python",
   "name": "python3"
  },
  "language_info": {
   "codemirror_mode": {
    "name": "ipython",
    "version": 3
   },
   "file_extension": ".py",
   "mimetype": "text/x-python",
   "name": "python",
   "nbconvert_exporter": "python",
   "pygments_lexer": "ipython3",
   "version": "3.8.5"
  },
  "toc": {
   "base_numbering": 1,
   "nav_menu": {},
   "number_sections": true,
   "sideBar": true,
   "skip_h1_title": false,
   "title_cell": "Table of Contents",
   "title_sidebar": "Contents",
   "toc_cell": false,
   "toc_position": {},
   "toc_section_display": true,
   "toc_window_display": false
  },
  "vscode": {
   "interpreter": {
    "hash": "f6f59d9f4182943beddbfb9daeaef21a52befe3b01e1735cb2293e7b96200b8e"
   }
  }
 },
 "nbformat": 4,
 "nbformat_minor": 5
}
